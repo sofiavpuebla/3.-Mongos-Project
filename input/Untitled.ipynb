{
 "cells": [
  {
   "cell_type": "code",
   "execution_count": 335,
   "metadata": {},
   "outputs": [
    {
     "ename": "ModuleNotFoundError",
     "evalue": "No module named 'src'",
     "output_type": "error",
     "traceback": [
      "\u001b[0;31m---------------------------------------------------------------------------\u001b[0m",
      "\u001b[0;31mModuleNotFoundError\u001b[0m                       Traceback (most recent call last)",
      "\u001b[0;32m<ipython-input-335-8fef54f33c00>\u001b[0m in \u001b[0;36m<module>\u001b[0;34m\u001b[0m\n\u001b[1;32m      5\u001b[0m \u001b[0;32mimport\u001b[0m \u001b[0mpandas\u001b[0m \u001b[0;32mas\u001b[0m \u001b[0mpd\u001b[0m\u001b[0;34m\u001b[0m\u001b[0;34m\u001b[0m\u001b[0m\n\u001b[1;32m      6\u001b[0m \u001b[0;32mimport\u001b[0m \u001b[0mos\u001b[0m\u001b[0;34m\u001b[0m\u001b[0;34m\u001b[0m\u001b[0m\n\u001b[0;32m----> 7\u001b[0;31m \u001b[0;32mfrom\u001b[0m \u001b[0msrc\u001b[0m\u001b[0;34m.\u001b[0m\u001b[0mqueriesAPI\u001b[0m \u001b[0;32mimport\u001b[0m \u001b[0;34m*\u001b[0m\u001b[0;34m\u001b[0m\u001b[0;34m\u001b[0m\u001b[0m\n\u001b[0m\u001b[1;32m      8\u001b[0m \u001b[0mload_dotenv\u001b[0m\u001b[0;34m(\u001b[0m\u001b[0;34m)\u001b[0m\u001b[0;34m\u001b[0m\u001b[0;34m\u001b[0m\u001b[0m\n",
      "\u001b[0;31mModuleNotFoundError\u001b[0m: No module named 'src'"
     ]
    }
   ],
   "source": [
    "from pymongo import MongoClient\n",
    "import requests\n",
    "import json\n",
    "from dotenv import load_dotenv\n",
    "import pandas as pd\n",
    "import os\n",
    "from src.queriesAPI import * \n",
    "load_dotenv()\n"
   ]
  },
  {
   "cell_type": "code",
   "execution_count": 324,
   "metadata": {},
   "outputs": [],
   "source": [
    "c_id=os.getenv(\"CLIENT_ID\")\n",
    "def GetFromFourSquare(query):\n",
    "    url = 'https://api.foursquare.com/v2/venues/explore'\n",
    "    params = dict(\n",
    "    client_id=os.getenv(\"CLIENT_ID\"),\n",
    "    client_secret=os.getenv(\"CLIENT_SECRET\"),\n",
    "    v='20180323',\n",
    "    ll='25.7722,-80.1867',\n",
    "    query=f'{query}',\n",
    "    limit=60\n",
    "    )\n",
    "    resp = requests.get(url=url, params=params)\n",
    "    data = json.loads(resp.text)[\"response\"][\"groups\"][0][\"items\"]\n",
    "    return data"
   ]
  },
  {
   "cell_type": "code",
   "execution_count": 322,
   "metadata": {},
   "outputs": [
    {
     "name": "stdout",
     "output_type": "stream",
     "text": [
      "P5RMEJXXR1H1C3HGA1FPN3LBQS2MB52Q15AUXT412EJQMJRO\n"
     ]
    }
   ],
   "source": [
    "A=os.getenv(\"CLIENT_ID\")\n",
    "print(A)"
   ]
  },
  {
   "cell_type": "code",
   "execution_count": 329,
   "metadata": {},
   "outputs": [
    {
     "ename": "NameError",
     "evalue": "name 'api' is not defined",
     "output_type": "error",
     "traceback": [
      "\u001b[0;31m---------------------------------------------------------------------------\u001b[0m",
      "\u001b[0;31mNameError\u001b[0m                                 Traceback (most recent call last)",
      "\u001b[0;32m<ipython-input-329-b91b3adca762>\u001b[0m in \u001b[0;36m<module>\u001b[0;34m\u001b[0m\n\u001b[0;32m----> 1\u001b[0;31m \u001b[0mapi\u001b[0m\u001b[0;34m.\u001b[0m\u001b[0mGetFromFourSquare\u001b[0m\u001b[0;34m(\u001b[0m\u001b[0;34m\"airport\"\u001b[0m\u001b[0;34m)\u001b[0m\u001b[0;34m\u001b[0m\u001b[0;34m\u001b[0m\u001b[0m\n\u001b[0m",
      "\u001b[0;31mNameError\u001b[0m: name 'api' is not defined"
     ]
    }
   ],
   "source": [
    "api.GetFromFourSquare(\"airport\")"
   ]
  },
  {
   "cell_type": "code",
   "execution_count": 302,
   "metadata": {},
   "outputs": [],
   "source": [
    "#airports=GetFromFourSquare('airport')\n",
    "#airports[\"response\"][\"groups\"][0][\"items\"][2][\"venue\"]"
   ]
  },
  {
   "cell_type": "code",
   "execution_count": 326,
   "metadata": {},
   "outputs": [],
   "source": [
    "airports=GetFromFourSquare(\"airport\")"
   ]
  },
  {
   "cell_type": "code",
   "execution_count": 327,
   "metadata": {},
   "outputs": [],
   "source": [
    "def getInfo(category):\n",
    "    data=[]\n",
    "    for i in range(len(category)):\n",
    "        item={\"id\":category[i][\"venue\"][\"id\"],\n",
    "                \"name\":category[i][\"venue\"][\"name\"],\n",
    "                \"lat\":category[i][\"venue\"][\"location\"][\"lat\"],\n",
    "                \"lng\":category[i][\"venue\"][\"location\"][\"lng\"]\n",
    "                }\n",
    "        \n",
    "        data.append(item)\n",
    "        \n",
    "    return pd.DataFrame(data)\n"
   ]
  },
  {
   "cell_type": "code",
   "execution_count": 328,
   "metadata": {},
   "outputs": [
    {
     "data": {
      "text/html": [
       "<div>\n",
       "<style scoped>\n",
       "    .dataframe tbody tr th:only-of-type {\n",
       "        vertical-align: middle;\n",
       "    }\n",
       "\n",
       "    .dataframe tbody tr th {\n",
       "        vertical-align: top;\n",
       "    }\n",
       "\n",
       "    .dataframe thead th {\n",
       "        text-align: right;\n",
       "    }\n",
       "</style>\n",
       "<table border=\"1\" class=\"dataframe\">\n",
       "  <thead>\n",
       "    <tr style=\"text-align: right;\">\n",
       "      <th></th>\n",
       "      <th>id</th>\n",
       "      <th>name</th>\n",
       "      <th>lat</th>\n",
       "      <th>lng</th>\n",
       "    </tr>\n",
       "  </thead>\n",
       "  <tbody>\n",
       "    <tr>\n",
       "      <th>0</th>\n",
       "      <td>4b89fb5df964a5200d5a32e3</td>\n",
       "      <td>Miami International Airport (MIA) (Miami Inter...</td>\n",
       "      <td>25.795564</td>\n",
       "      <td>-80.278130</td>\n",
       "    </tr>\n",
       "    <tr>\n",
       "      <th>1</th>\n",
       "      <td>5ca4f00fc824ae002cab7544</td>\n",
       "      <td>Velox Air Charter - Miami Private Jets</td>\n",
       "      <td>25.766774</td>\n",
       "      <td>-80.188844</td>\n",
       "    </tr>\n",
       "    <tr>\n",
       "      <th>2</th>\n",
       "      <td>4e0a1f6b18a8382643c769f4</td>\n",
       "      <td>Miami Seaplane Base X44</td>\n",
       "      <td>25.783064</td>\n",
       "      <td>-80.177012</td>\n",
       "    </tr>\n",
       "    <tr>\n",
       "      <th>3</th>\n",
       "      <td>5d0c00b0ab7636002319e30e</td>\n",
       "      <td>JetsetPrivate Air</td>\n",
       "      <td>25.763392</td>\n",
       "      <td>-80.191215</td>\n",
       "    </tr>\n",
       "    <tr>\n",
       "      <th>4</th>\n",
       "      <td>59b16a5f48b04e705d3aa863</td>\n",
       "      <td>GOGO JETS - Miami Private Jet Charter</td>\n",
       "      <td>25.760604</td>\n",
       "      <td>-80.191446</td>\n",
       "    </tr>\n",
       "    <tr>\n",
       "      <th>5</th>\n",
       "      <td>5b8a516b2632ec002c0eb555</td>\n",
       "      <td>Parkon</td>\n",
       "      <td>25.767151</td>\n",
       "      <td>-80.193764</td>\n",
       "    </tr>\n",
       "    <tr>\n",
       "      <th>6</th>\n",
       "      <td>50ba1688e4b0e9eceb2669f9</td>\n",
       "      <td>Security Check-In At MIA</td>\n",
       "      <td>25.776502</td>\n",
       "      <td>-80.171887</td>\n",
       "    </tr>\n",
       "    <tr>\n",
       "      <th>7</th>\n",
       "      <td>56af5cf3498e98f3109fe94a</td>\n",
       "      <td>Miami Limo Rental</td>\n",
       "      <td>25.773422</td>\n",
       "      <td>-80.189708</td>\n",
       "    </tr>\n",
       "    <tr>\n",
       "      <th>8</th>\n",
       "      <td>56af3826498e3b4bd5433b4b</td>\n",
       "      <td>Miami Airport Van Service</td>\n",
       "      <td>25.773385</td>\n",
       "      <td>-80.190830</td>\n",
       "    </tr>\n",
       "    <tr>\n",
       "      <th>9</th>\n",
       "      <td>590d281ea423623a3e57079b</td>\n",
       "      <td>BestWay Courier</td>\n",
       "      <td>25.767633</td>\n",
       "      <td>-80.190971</td>\n",
       "    </tr>\n",
       "    <tr>\n",
       "      <th>10</th>\n",
       "      <td>52e28cd511d224f679c8a71d</td>\n",
       "      <td>Royal Caribbean Cruise Baggage Claim</td>\n",
       "      <td>25.780616</td>\n",
       "      <td>-80.178159</td>\n",
       "    </tr>\n",
       "  </tbody>\n",
       "</table>\n",
       "</div>"
      ],
      "text/plain": [
       "                          id  \\\n",
       "0   4b89fb5df964a5200d5a32e3   \n",
       "1   5ca4f00fc824ae002cab7544   \n",
       "2   4e0a1f6b18a8382643c769f4   \n",
       "3   5d0c00b0ab7636002319e30e   \n",
       "4   59b16a5f48b04e705d3aa863   \n",
       "5   5b8a516b2632ec002c0eb555   \n",
       "6   50ba1688e4b0e9eceb2669f9   \n",
       "7   56af5cf3498e98f3109fe94a   \n",
       "8   56af3826498e3b4bd5433b4b   \n",
       "9   590d281ea423623a3e57079b   \n",
       "10  52e28cd511d224f679c8a71d   \n",
       "\n",
       "                                                 name        lat        lng  \n",
       "0   Miami International Airport (MIA) (Miami Inter...  25.795564 -80.278130  \n",
       "1              Velox Air Charter - Miami Private Jets  25.766774 -80.188844  \n",
       "2                             Miami Seaplane Base X44  25.783064 -80.177012  \n",
       "3                                   JetsetPrivate Air  25.763392 -80.191215  \n",
       "4               GOGO JETS - Miami Private Jet Charter  25.760604 -80.191446  \n",
       "5                                              Parkon  25.767151 -80.193764  \n",
       "6                            Security Check-In At MIA  25.776502 -80.171887  \n",
       "7                                   Miami Limo Rental  25.773422 -80.189708  \n",
       "8                           Miami Airport Van Service  25.773385 -80.190830  \n",
       "9                                     BestWay Courier  25.767633 -80.190971  \n",
       "10               Royal Caribbean Cruise Baggage Claim  25.780616 -80.178159  "
      ]
     },
     "execution_count": 328,
     "metadata": {},
     "output_type": "execute_result"
    }
   ],
   "source": [
    "dataAirports=getInfo(airports)\n",
    "dataAirports"
   ]
  },
  {
   "cell_type": "code",
   "execution_count": 189,
   "metadata": {},
   "outputs": [],
   "source": [
    "def TransformGeoPoints(dataFrame):\n",
    "    return {\n",
    "        \"type\":\"Point\",\n",
    "        \"coordinates\":[dataFrame.lng, dataFrame.lat]\n",
    "    }"
   ]
  },
  {
   "cell_type": "code",
   "execution_count": 220,
   "metadata": {},
   "outputs": [],
   "source": [
    "pointsAirports=TransformGeoPoints(dataAirports)"
   ]
  },
  {
   "cell_type": "code",
   "execution_count": 213,
   "metadata": {},
   "outputs": [],
   "source": [
    "starbucks=GetFromFourSquare(\"Starbucks\")"
   ]
  },
  {
   "cell_type": "code",
   "execution_count": 221,
   "metadata": {},
   "outputs": [],
   "source": [
    "dataStarbucks=getInfo(starbucks)\n",
    "pointsStarbucks=TransformGeoPoints(dataStarbucks)"
   ]
  },
  {
   "cell_type": "code",
   "execution_count": 203,
   "metadata": {},
   "outputs": [],
   "source": [
    "schools=GetFromFourSquare(\"school\")[\"response\"][\"groups\"][0][\"items\"]"
   ]
  },
  {
   "cell_type": "code",
   "execution_count": 218,
   "metadata": {},
   "outputs": [],
   "source": [
    "dataSchools=getInfo(schools)"
   ]
  },
  {
   "cell_type": "code",
   "execution_count": 219,
   "metadata": {},
   "outputs": [],
   "source": [
    "pointsSchools=TransformGeoPoints(dataSchools)"
   ]
  },
  {
   "cell_type": "code",
   "execution_count": null,
   "metadata": {},
   "outputs": [],
   "source": [
    "vegan=GetFromFourSquare(\"vegan\")"
   ]
  },
  {
   "cell_type": "code",
   "execution_count": 284,
   "metadata": {},
   "outputs": [],
   "source": [
    "dataVegan=getInfo(vegan)"
   ]
  },
  {
   "cell_type": "code",
   "execution_count": 286,
   "metadata": {},
   "outputs": [],
   "source": [
    "pointsVegan=TransformGeoPoints(dataVegan)"
   ]
  },
  {
   "cell_type": "code",
   "execution_count": null,
   "metadata": {},
   "outputs": [],
   "source": []
  }
 ],
 "metadata": {
  "kernelspec": {
   "display_name": "Python 3",
   "language": "python",
   "name": "python3"
  },
  "language_info": {
   "codemirror_mode": {
    "name": "ipython",
    "version": 3
   },
   "file_extension": ".py",
   "mimetype": "text/x-python",
   "name": "python",
   "nbconvert_exporter": "python",
   "pygments_lexer": "ipython3",
   "version": "3.7.7"
  }
 },
 "nbformat": 4,
 "nbformat_minor": 4
}